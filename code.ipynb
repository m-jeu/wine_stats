{
 "cells": [
  {
   "cell_type": "markdown",
   "source": [
    "We set the required confidence to draw any conclusions from any of the statistical tests (t-test, ANOVA) at 95%."
   ],
   "metadata": {
    "collapsed": false
   }
  },
  {
   "cell_type": "markdown",
   "source": [],
   "metadata": {
    "collapsed": false
   }
  },
  {
   "cell_type": "code",
   "execution_count": 1,
   "outputs": [],
   "source": [
    "import numpy as np\n",
    "import pandas as pd\n",
    "import matplotlib.pyplot as plt\n",
    "%matplotlib inline\n",
    "import plotly.express as px\n",
    "from sklearn import linear_model\n",
    "import seaborn as sns\n",
    "\n",
    "from scipy import stats"
   ],
   "metadata": {
    "collapsed": false,
    "pycharm": {
     "name": "#%%\n"
    }
   }
  },
  {
   "cell_type": "code",
   "execution_count": 2,
   "outputs": [
    {
     "data": {
      "text/plain": "wine           object\nwinery         object\ncategory       object\ndesignation    object\nvarietal       object\nappellation    object\nalcohol        object\nprice          object\nrating          int64\nreviewer       object\nreview         object\ndtype: object"
     },
     "execution_count": 2,
     "metadata": {},
     "output_type": "execute_result"
    }
   ],
   "source": [
    "df = pd.read_csv(\"wine.csv\")\n",
    "df.dtypes"
   ],
   "metadata": {
    "collapsed": false,
    "pycharm": {
     "name": "#%%\n"
    }
   }
  },
  {
   "cell_type": "code",
   "execution_count": 3,
   "outputs": [
    {
     "data": {
      "text/plain": "(323237, 11)"
     },
     "execution_count": 3,
     "metadata": {},
     "output_type": "execute_result"
    }
   ],
   "source": [
    "df.shape"
   ],
   "metadata": {
    "collapsed": false,
    "pycharm": {
     "name": "#%%\n"
    }
   }
  },
  {
   "cell_type": "markdown",
   "source": [
    "When reading a CSV-file, Pandas attempts to convert all numeric columns to the proper datatype. Whenever these are not formatted in a way Pandas is sure to correctly interpret, they are left as Strings. Some data-engineering in this regard is required, because not all columns have been interpreted as one would expect them to be. We'll start out with that.\n",
    "\n",
    "<h2>DataType-Engineering</h2>\n",
    "\n",
    "<h3>Numeric columns</h3>\n",
    "\n",
    "Out of the columns expected to be numeric (alcohol, price and rating), only rating has been correctly identified as numeric. We'll examine what the values look like to get a better understanding of the required operations."
   ],
   "metadata": {
    "collapsed": false
   }
  },
  {
   "cell_type": "code",
   "execution_count": 125,
   "outputs": [],
   "source": [
    "numeric_columns = [\"alcohol\", \"price\", \"rating\"]"
   ],
   "metadata": {
    "collapsed": false,
    "pycharm": {
     "name": "#%%\n"
    }
   }
  },
  {
   "cell_type": "code",
   "execution_count": 126,
   "outputs": [
    {
     "data": {
      "text/plain": "  alcohol price  rating\n0     NaN   $32      87\n1     15%   $17      85\n2     NaN   NaN      90\n3   13.5%   $18      86\n4   13.5%   $21      85\n5   15.1%   $40      89\n6   15.1%   $60      92\n7     12%   $19      88\n8     13%   $16      87\n9   13.5%   $30      89",
      "text/html": "<div>\n<style scoped>\n    .dataframe tbody tr th:only-of-type {\n        vertical-align: middle;\n    }\n\n    .dataframe tbody tr th {\n        vertical-align: top;\n    }\n\n    .dataframe thead th {\n        text-align: right;\n    }\n</style>\n<table border=\"1\" class=\"dataframe\">\n  <thead>\n    <tr style=\"text-align: right;\">\n      <th></th>\n      <th>alcohol</th>\n      <th>price</th>\n      <th>rating</th>\n    </tr>\n  </thead>\n  <tbody>\n    <tr>\n      <th>0</th>\n      <td>NaN</td>\n      <td>$32</td>\n      <td>87</td>\n    </tr>\n    <tr>\n      <th>1</th>\n      <td>15%</td>\n      <td>$17</td>\n      <td>85</td>\n    </tr>\n    <tr>\n      <th>2</th>\n      <td>NaN</td>\n      <td>NaN</td>\n      <td>90</td>\n    </tr>\n    <tr>\n      <th>3</th>\n      <td>13.5%</td>\n      <td>$18</td>\n      <td>86</td>\n    </tr>\n    <tr>\n      <th>4</th>\n      <td>13.5%</td>\n      <td>$21</td>\n      <td>85</td>\n    </tr>\n    <tr>\n      <th>5</th>\n      <td>15.1%</td>\n      <td>$40</td>\n      <td>89</td>\n    </tr>\n    <tr>\n      <th>6</th>\n      <td>15.1%</td>\n      <td>$60</td>\n      <td>92</td>\n    </tr>\n    <tr>\n      <th>7</th>\n      <td>12%</td>\n      <td>$19</td>\n      <td>88</td>\n    </tr>\n    <tr>\n      <th>8</th>\n      <td>13%</td>\n      <td>$16</td>\n      <td>87</td>\n    </tr>\n    <tr>\n      <th>9</th>\n      <td>13.5%</td>\n      <td>$30</td>\n      <td>89</td>\n    </tr>\n  </tbody>\n</table>\n</div>"
     },
     "execution_count": 126,
     "metadata": {},
     "output_type": "execute_result"
    }
   ],
   "source": [
    "df[numeric_columns].head(10)"
   ],
   "metadata": {
    "collapsed": false,
    "pycharm": {
     "name": "#%%\n"
    }
   }
  },
  {
   "cell_type": "markdown",
   "source": [
    "Rating has already been identified correctly as Integer. We'll work through the other 2, one at a time, to fix them as well.\n",
    "\n",
    "<h4>Alcohol</h4>\n",
    "\n",
    "Alcohol has some NaN values where the data is missing in the dataset. Besides those, everything is formatted as a floating-point number with '%' as suffix. We can fix this by applying a simple string-formatting function to the entire columns, and then converting to floating points numbers. Before doing this however, we'll note how many missing values there are, to make sure we don't accidentally lose more data through wrong assumptions about string formatting. These missing values are interpreted as the float datatype, which we should make sure not to affect with our string formatting function."
   ],
   "metadata": {
    "collapsed": false
   }
  },
  {
   "cell_type": "code",
   "execution_count": 127,
   "outputs": [
    {
     "data": {
      "text/plain": "'There are 41021 missing values in the alcohol column.'"
     },
     "execution_count": 127,
     "metadata": {},
     "output_type": "execute_result"
    }
   ],
   "source": [
    "f\"There are {df['alcohol'].isna().sum()} missing values in the alcohol column.\""
   ],
   "metadata": {
    "collapsed": false,
    "pycharm": {
     "name": "#%%\n"
    }
   }
  },
  {
   "cell_type": "code",
   "execution_count": 128,
   "outputs": [],
   "source": [
    "df[\"new alcohol\"] = df[\"alcohol\"].map(\n",
    "    lambda string: string.strip(\"%\"),\n",
    "    na_action=\"ignore\"\n",
    ")\n",
    "\n",
    "df[\"new alcohol\"] = pd.to_numeric(df[\"new alcohol\"])"
   ],
   "metadata": {
    "collapsed": false,
    "pycharm": {
     "name": "#%%\n"
    }
   }
  },
  {
   "cell_type": "code",
   "execution_count": 129,
   "outputs": [
    {
     "data": {
      "text/plain": "'There are 41021 missing values in the new alcohol column.'"
     },
     "execution_count": 129,
     "metadata": {},
     "output_type": "execute_result"
    }
   ],
   "source": [
    "f\"There are {df['new alcohol'].isna().sum()} missing values in the new alcohol column.\""
   ],
   "metadata": {
    "collapsed": false,
    "pycharm": {
     "name": "#%%\n"
    }
   }
  },
  {
   "cell_type": "markdown",
   "source": [
    "The same amount of values remain, and we've successfully converted the column to floating-point numbers. We'll overwrite the old alcohol column, and drop the new one, so we can move on to the next column."
   ],
   "metadata": {
    "collapsed": false
   }
  },
  {
   "cell_type": "code",
   "execution_count": 130,
   "outputs": [],
   "source": [
    "df[\"alcohol\"] = df[\"new alcohol\"]\n",
    "df.drop(columns=\"new alcohol\", inplace=True)"
   ],
   "metadata": {
    "collapsed": false,
    "pycharm": {
     "name": "#%%\n"
    }
   }
  },
  {
   "cell_type": "markdown",
   "source": [
    "<h4>Price</h4>\n",
    "\n",
    "From our initial look at a subset of values in the numeric columns, it appears the steps that need to be taken to correct the datatype of the price column are similar to the steps we took with the alcohol column. This time, we have a '$' prefix instead."
   ],
   "metadata": {
    "collapsed": false
   }
  },
  {
   "cell_type": "code",
   "execution_count": 131,
   "outputs": [
    {
     "data": {
      "text/plain": "'There are 23955 missing values in the price column.'"
     },
     "execution_count": 131,
     "metadata": {},
     "output_type": "execute_result"
    }
   ],
   "source": [
    "f\"There are {df['price'].isna().sum()} missing values in the price column.\""
   ],
   "metadata": {
    "collapsed": false,
    "pycharm": {
     "name": "#%%\n"
    }
   }
  },
  {
   "cell_type": "code",
   "execution_count": 132,
   "outputs": [],
   "source": [
    "df[\"new price\"] = df[\"price\"].map(\n",
    "    lambda string: string.strip(\"$\"),\n",
    "    na_action=\"ignore\"\n",
    ")\n",
    "\n",
    "df[\"new price\"] = pd.to_numeric(df[\"new price\"], errors=\"coerce\")"
   ],
   "metadata": {
    "collapsed": false,
    "pycharm": {
     "name": "#%%\n"
    }
   }
  },
  {
   "cell_type": "code",
   "execution_count": 133,
   "outputs": [
    {
     "data": {
      "text/plain": "'There are 31199 missing values in the new price column.'"
     },
     "execution_count": 133,
     "metadata": {},
     "output_type": "execute_result"
    }
   ],
   "source": [
    "f\"There are {df['new price'].isna().sum()} missing values in the new price column.\""
   ],
   "metadata": {
    "collapsed": false,
    "pycharm": {
     "name": "#%%\n"
    }
   }
  },
  {
   "cell_type": "markdown",
   "source": [
    "It appears we did lose some data in this conversion. Considering there are 300.000+ records in the dataset, this reduction of sample-size is not catastrophic. Still, let's see if we can get some insight into the lost values. To do this, we'll view a subset of the dataset where values are NaN in the new column, but where not NaN in the old column."
   ],
   "metadata": {
    "collapsed": false
   }
  },
  {
   "cell_type": "code",
   "execution_count": 134,
   "outputs": [],
   "source": [
    "price_not_formatted = df[df[\"new price\"].isna() & df[\"price\"].notna()]"
   ],
   "metadata": {
    "collapsed": false,
    "pycharm": {
     "name": "#%%\n"
    }
   }
  },
  {
   "cell_type": "code",
   "execution_count": 135,
   "outputs": [
    {
     "data": {
      "text/plain": "VivinoGary's Wine                        3024\nVivinoWine.com                           1586\nDrizlyVivino                             1165\nVivinoWine Express                        280\nVivinoGary's WineTotal Wine               204\n                                         ... \nVivinoGary's WineTotal WineWine.com         1\nGary's WineWine ExpressWired for Wine       1\nVivinoDrizly                                1\nWine.comVivinoTotal Wine                    1\nTotal WineParcelle                          1\nName: price, Length: 83, dtype: int64"
     },
     "execution_count": 135,
     "metadata": {},
     "output_type": "execute_result"
    }
   ],
   "source": [
    "price_not_formatted[\"price\"].value_counts()"
   ],
   "metadata": {
    "collapsed": false,
    "pycharm": {
     "name": "#%%\n"
    }
   }
  },
  {
   "cell_type": "markdown",
   "source": [
    "These are clearly not useful prices, that could ever be converted to prices. We can replace the old price column with the new one, drop the new one, and drop mark the dataframe we just created for garbage collection."
   ],
   "metadata": {
    "collapsed": false
   }
  },
  {
   "cell_type": "code",
   "execution_count": 136,
   "outputs": [],
   "source": [
    "df[\"price\"] = df[\"new price\"]\n",
    "df.drop(columns=\"new price\", inplace=True)\n",
    "price_not_formatted = None  # Make DataFrame go out of scope, so that garbage collector cleans it up."
   ],
   "metadata": {
    "collapsed": false,
    "pycharm": {
     "name": "#%%\n"
    }
   }
  },
  {
   "cell_type": "markdown",
   "source": [
    "We have corrected the incorrect Data Types in the numeric columns, so now we can move on to the other columns.\n",
    "\n",
    "<h3>Categorical Variables</h3>\n",
    "\n",
    "Some of the categorical variables need some work as well. We'll print out the data once more to gain some insight."
   ],
   "metadata": {
    "collapsed": false,
    "pycharm": {
     "name": "#%% md\n"
    }
   }
  },
  {
   "cell_type": "code",
   "execution_count": 137,
   "outputs": [
    {
     "data": {
      "text/plain": "                                                wine                winery  \\\n0  J. Lohr 2000 Hilltop Vineyard Cabernet Sauvign...               J. Lohr   \n1            Antucura 2010 Pinot Noir (Vista Flores)              Antucura   \n2  Quinta do Portal 1999 Quinta do Portal Reserva...      Quinta do Portal   \n3  Tenuta di Ghizzano 2006 Il Ghizzano Red (Toscana)    Tenuta di Ghizzano   \n4  Tenuta San Francesco 2007 Tramonti White (Camp...  Tenuta San Francesco   \n\n  category               designation                varietal  \\\n0      Red          Hilltop Vineyard      Cabernet Sauvignon   \n1      Red                       NaN              Pinot Noir   \n2      Red  Quinta do Portal Reserva  Red Blends, Red Blends   \n3      Red               Il Ghizzano  Red Blends, Red Blends   \n4    White                  Tramonti             White Blend   \n\n                                  appellation  alcohol  price  rating  \\\n0  Paso Robles, Central Coast, California, US      NaN   32.0      87   \n1   Vista Flores, Mendoza Province, Argentina     15.0   17.0      85   \n2                             Douro, Portugal      NaN    NaN      90   \n3                     Toscana, Tuscany, Italy     13.5   18.0      86   \n4             Campania, Southern Italy, Italy     13.5   21.0      85   \n\n            reviewer                                             review  \n0                NaN  Held back nearly five years, this Cab still ha...  \n1  Michael Schachner  Rubbery, bold and earthy on the nose, then ful...  \n2         Roger Voss  Smoky, meaty aromas lead into perfumed fruit f...  \n3                NaN  The nose is rather neutral save for distant ar...  \n4                NaN  This intriguing blend of Falanghina, Biancolel...  ",
      "text/html": "<div>\n<style scoped>\n    .dataframe tbody tr th:only-of-type {\n        vertical-align: middle;\n    }\n\n    .dataframe tbody tr th {\n        vertical-align: top;\n    }\n\n    .dataframe thead th {\n        text-align: right;\n    }\n</style>\n<table border=\"1\" class=\"dataframe\">\n  <thead>\n    <tr style=\"text-align: right;\">\n      <th></th>\n      <th>wine</th>\n      <th>winery</th>\n      <th>category</th>\n      <th>designation</th>\n      <th>varietal</th>\n      <th>appellation</th>\n      <th>alcohol</th>\n      <th>price</th>\n      <th>rating</th>\n      <th>reviewer</th>\n      <th>review</th>\n    </tr>\n  </thead>\n  <tbody>\n    <tr>\n      <th>0</th>\n      <td>J. Lohr 2000 Hilltop Vineyard Cabernet Sauvign...</td>\n      <td>J. Lohr</td>\n      <td>Red</td>\n      <td>Hilltop Vineyard</td>\n      <td>Cabernet Sauvignon</td>\n      <td>Paso Robles, Central Coast, California, US</td>\n      <td>NaN</td>\n      <td>32.0</td>\n      <td>87</td>\n      <td>NaN</td>\n      <td>Held back nearly five years, this Cab still ha...</td>\n    </tr>\n    <tr>\n      <th>1</th>\n      <td>Antucura 2010 Pinot Noir (Vista Flores)</td>\n      <td>Antucura</td>\n      <td>Red</td>\n      <td>NaN</td>\n      <td>Pinot Noir</td>\n      <td>Vista Flores, Mendoza Province, Argentina</td>\n      <td>15.0</td>\n      <td>17.0</td>\n      <td>85</td>\n      <td>Michael Schachner</td>\n      <td>Rubbery, bold and earthy on the nose, then ful...</td>\n    </tr>\n    <tr>\n      <th>2</th>\n      <td>Quinta do Portal 1999 Quinta do Portal Reserva...</td>\n      <td>Quinta do Portal</td>\n      <td>Red</td>\n      <td>Quinta do Portal Reserva</td>\n      <td>Red Blends, Red Blends</td>\n      <td>Douro, Portugal</td>\n      <td>NaN</td>\n      <td>NaN</td>\n      <td>90</td>\n      <td>Roger Voss</td>\n      <td>Smoky, meaty aromas lead into perfumed fruit f...</td>\n    </tr>\n    <tr>\n      <th>3</th>\n      <td>Tenuta di Ghizzano 2006 Il Ghizzano Red (Toscana)</td>\n      <td>Tenuta di Ghizzano</td>\n      <td>Red</td>\n      <td>Il Ghizzano</td>\n      <td>Red Blends, Red Blends</td>\n      <td>Toscana, Tuscany, Italy</td>\n      <td>13.5</td>\n      <td>18.0</td>\n      <td>86</td>\n      <td>NaN</td>\n      <td>The nose is rather neutral save for distant ar...</td>\n    </tr>\n    <tr>\n      <th>4</th>\n      <td>Tenuta San Francesco 2007 Tramonti White (Camp...</td>\n      <td>Tenuta San Francesco</td>\n      <td>White</td>\n      <td>Tramonti</td>\n      <td>White Blend</td>\n      <td>Campania, Southern Italy, Italy</td>\n      <td>13.5</td>\n      <td>21.0</td>\n      <td>85</td>\n      <td>NaN</td>\n      <td>This intriguing blend of Falanghina, Biancolel...</td>\n    </tr>\n  </tbody>\n</table>\n</div>"
     },
     "execution_count": 137,
     "metadata": {},
     "output_type": "execute_result"
    }
   ],
   "source": [
    "df.head(5)"
   ],
   "metadata": {
    "collapsed": false,
    "pycharm": {
     "name": "#%%\n"
    }
   }
  },
  {
   "cell_type": "markdown",
   "source": [
    "There are some variables that are absolutely not useful in any way for the questions we're trying to answer, like the review text, and the wine's title. We can safely remove these from the dataset."
   ],
   "metadata": {
    "collapsed": false
   }
  },
  {
   "cell_type": "code",
   "execution_count": 138,
   "outputs": [],
   "source": [
    "df.drop(\n",
    "    columns=[\"wine\", \"review\"],\n",
    "    inplace=True\n",
    ")"
   ],
   "metadata": {
    "collapsed": false,
    "pycharm": {
     "name": "#%%\n"
    }
   }
  },
  {
   "cell_type": "markdown",
   "source": [
    "The other columns can be interpreted as categorical variables. To improve readability, we can mark these columns as categories."
   ],
   "metadata": {
    "collapsed": false
   }
  },
  {
   "cell_type": "code",
   "execution_count": 139,
   "outputs": [],
   "source": [
    "categorical_columns = [\"winery\", \"category\", \"designation\", \"varietal\", \"appellation\", \"reviewer\"]"
   ],
   "metadata": {
    "collapsed": false,
    "pycharm": {
     "name": "#%%\n"
    }
   }
  },
  {
   "cell_type": "code",
   "execution_count": 140,
   "outputs": [
    {
     "data": {
      "text/plain": "winery         category\ncategory       category\ndesignation    category\nvarietal       category\nappellation    category\nalcohol         float64\nprice           float64\nrating            int64\nreviewer       category\ndtype: object"
     },
     "execution_count": 140,
     "metadata": {},
     "output_type": "execute_result"
    }
   ],
   "source": [
    "df[categorical_columns] = df[categorical_columns].astype(\"category\")\n",
    "df.dtypes"
   ],
   "metadata": {
    "collapsed": false,
    "pycharm": {
     "name": "#%%\n"
    }
   }
  },
  {
   "cell_type": "markdown",
   "source": [
    "That's all the datatypes taken care of.\n",
    "\n",
    "<h2>Outliers</h2>\n",
    "\n",
    "The numerical columns could very well contain outliers. We can get a sense of these through boxplots.\n",
    "\n"
   ],
   "metadata": {
    "collapsed": false
   }
  },
  {
   "cell_type": "code",
   "execution_count": 141,
   "outputs": [
    {
     "data": {
      "text/plain": "<Figure size 432x288 with 1 Axes>",
      "image/png": "[encoded data removed]"
     },
     "metadata": {
      "needs_background": "light"
     },
     "output_type": "display_data"
    },
    {
     "data": {
      "text/plain": "<Figure size 432x288 with 1 Axes>",
      "image/png": "[encoded data removed]"
     },
     "metadata": {
      "needs_background": "light"
     },
     "output_type": "display_data"
    },
    {
     "data": {
      "text/plain": "<Figure size 432x288 with 1 Axes>",
      "image/png": "[encoded data removed]"
     },
     "metadata": {
      "needs_background": "light"
     },
     "output_type": "display_data"
    }
   ],
   "source": [
    "for col in numeric_columns:\n",
    "    p = sns.boxplot(data=df[col])\n",
    "    p.set_ylabel(numeric_columns)\n",
    "    plt.show()"
   ],
   "metadata": {
    "collapsed": false,
    "pycharm": {
     "name": "#%%\n"
    }
   }
  },
  {
   "cell_type": "code",
   "execution_count": 142,
   "outputs": [
    {
     "data": {
      "text/plain": "<Figure size 432x288 with 3 Axes>",
      "image/png": "[encoded data removed]"
     },
     "metadata": {
      "needs_background": "light"
     },
     "output_type": "display_data"
    }
   ],
   "source": [
    "fig = plt.figure()\n",
    "fig.subplots_adjust(wspace=.8)\n",
    "fig.suptitle(\"Numeric variable boxplots\")\n",
    "\n",
    "for i, col in enumerate(numeric_columns):\n",
    "    ax = fig.add_subplot(1, 3, i + 1)\n",
    "    ax.boxplot(df.loc[df[col].notna(), col])\n",
    "    ax.set_ylabel(\"Value\")\n",
    "    ax.set_title(col.capitalize())\n",
    "\n"
   ],
   "metadata": {
    "collapsed": false,
    "pycharm": {
     "name": "#%%\n"
    }
   }
  },
  {
   "cell_type": "markdown",
   "source": [
    "Alcohol and price appear to have some significant outliers. We can take care of those individually.\n",
    "\n",
    "<h4>Alcohol</h4>\n",
    "\n",
    "It's a fact of nature that a liquid can't have an alcohol percentage higher then 100%. We can go even lower by specifying our definition of wine. In the Netherlands, the highest permitted alcohol percentage for wine is set at 18.0%, with a lower limit for some categories. We'll remove any wines that violate that constraint.\n",
    "\n",
    "The mininum amount of alcohol that a wine should have, to be called a wine in the Netherlands, is 1.2%. We can also remove any wines that violate that law.\n",
    "\n",
    "https://www.belastingdienst.nl/bibliotheek/handboeken/html/boeken/HA/wijn-alcoholpercentage_volume_en_verrijking.html\n",
    "#TODO(m-jeu): Referenties ofzo lol"
   ],
   "metadata": {
    "collapsed": false
   }
  },
  {
   "cell_type": "code",
   "execution_count": 143,
   "outputs": [],
   "source": [
    "df[\"alcohol\"] = df.loc[((df[\"alcohol\"] <= 18) & (df[\"alcohol\"] >= 1.2)), \"alcohol\"]"
   ],
   "metadata": {
    "collapsed": false,
    "pycharm": {
     "name": "#%%\n"
    }
   }
  },
  {
   "cell_type": "markdown",
   "source": [
    "\n",
    "<h4>Price</h4>\n",
    "\n",
    "As one might expect, even though the bulk of wine seems to be in the price range of what most consumers would consider 'reasonable', there are some very expensive exceptions. We're interested most in the types of wines that a more average consumer would consume on a more regular basis, then in wines that would be considered 'luxury'. It's hard to base a limit of what to exclude on non-statistical information, considering what a person considers luxury is very much a cultural and personal thing. Therefore, we'll set the limit of what to exclude as at least 3 inter-quartile ranges away from both q1 and q3, considering this is a universally accepted definition of 'extreme outliers'. #TODO(m-jeu): Bron."
   ],
   "metadata": {
    "collapsed": false
   }
  },
  {
   "cell_type": "code",
   "execution_count": 144,
   "outputs": [],
   "source": [
    "q1 = df[\"price\"].quantile(.25)\n",
    "q3 = df[\"price\"].quantile(.75)\n",
    "\n",
    "iqr3 = (q3 - q1) * 3\n",
    "df[\"price\"] = df.loc[\n",
    "    ((df[\"price\"] < q3 + iqr3) & (df[\"price\"] > q1 - iqr3)),\n",
    "    \"price\"\n",
    "]"
   ],
   "metadata": {
    "collapsed": false,
    "pycharm": {
     "name": "#%%\n"
    }
   }
  },
  {
   "cell_type": "markdown",
   "source": [
    "We've remove the outliers, now we can move on.\n",
    "\n",
    "<h2>Distributions</h2>\n",
    "\n",
    "Having removed the outliers, we can have a look at the exact distributions through histograms."
   ],
   "metadata": {
    "collapsed": false
   }
  },
  {
   "cell_type": "code",
   "execution_count": 145,
   "outputs": [
    {
     "data": {
      "text/plain": "<Figure size 720x720 with 3 Axes>",
      "image/png": "[encoded data removed]"
     },
     "metadata": {
      "needs_background": "light"
     },
     "output_type": "display_data"
    }
   ],
   "source": [
    "fig = plt.figure(figsize=(10, 10))\n",
    "fig.subplots_adjust(wspace=.8)\n",
    "fig.suptitle(\"Numeric variable distributions\")\n",
    "\n",
    "for i, col in enumerate(numeric_columns):\n",
    "    ax = fig.add_subplot(2, 2, i + 1)\n",
    "    ax.hist(df.loc[df[col].notna(), col], bins=20)\n",
    "    ax.set_ylabel(\"Frequency\")\n",
    "    ax.set_xlabel(\"Value\")\n",
    "    ax.set_title(col.capitalize())\n"
   ],
   "metadata": {
    "collapsed": false,
    "pycharm": {
     "name": "#%%\n"
    }
   }
  },
  {
   "cell_type": "markdown",
   "source": [
    "Rating appears normally distributed. Price appears to be log normally distributed, but would require further testing. Alcohol's distribution is hard to gauge, because we permitted outliers far from the centre to remain in the sample. We can zoom in, to allow us to see the distribution more clearly."
   ],
   "metadata": {
    "collapsed": false
   }
  },
  {
   "cell_type": "code",
   "execution_count": 146,
   "outputs": [
    {
     "data": {
      "text/plain": "Text(0.5, 1.0, 'Frequency of alcohol measurements, zoomed in to centre of distribution')"
     },
     "execution_count": 146,
     "metadata": {},
     "output_type": "execute_result"
    },
    {
     "data": {
      "text/plain": "<Figure size 432x288 with 1 Axes>",
      "image/png": "[encoded data removed]"
     },
     "metadata": {
      "needs_background": "light"
     },
     "output_type": "display_data"
    }
   ],
   "source": [
    "plt.hist(df.loc[df[\"alcohol\"] > 10, \"alcohol\"], bins=20)\n",
    "plt.xlabel(\"Value\")\n",
    "plt.ylabel(\"Frequency\")\n",
    "plt.title(\"Frequency of alcohol measurements, zoomed in to centre of distribution\")"
   ],
   "metadata": {
    "collapsed": false,
    "pycharm": {
     "name": "#%%\n"
    }
   }
  },
  {
   "cell_type": "markdown",
   "source": [
    "Alcohol percentage also appears like it potentially could be normally distributed, but requires more looking into as well.\n",
    "\n",
    "TODO(m-jeu): Normality tests?\n",
    "\n",
    "<h2>Hypotheses and tests</h2>\n",
    "\n",
    "Having engineered and examined in a more general sense, we can start working towards the specific hypotheses and tests.\n",
    "\n",
    "<h3>ANOVA: Wine Categories.</h3>"
   ],
   "metadata": {
    "collapsed": false,
    "pycharm": {
     "name": "#%% md\n"
    }
   }
  },
  {
   "cell_type": "code",
   "execution_count": 147,
   "outputs": [
    {
     "data": {
      "text/plain": "Red            194396\nWhite           95424\nSparkling       14938\nRose            11667\nDessert          4329\nPort/Sherry      2257\nFortified         226\nName: category, dtype: int64"
     },
     "execution_count": 147,
     "metadata": {},
     "output_type": "execute_result"
    }
   ],
   "source": [
    "df[\"category\"].value_counts()"
   ],
   "metadata": {
    "collapsed": false,
    "pycharm": {
     "name": "#%%\n"
    }
   }
  },
  {
   "cell_type": "markdown",
   "source": [
    "We'll leave Port/Sherry out of scope, because parts of those are categories that already lost quite some wines by excluding based on alcohol percentage. We'll also exclude dessert wine, because the line between dessert wine and other types of wine is less distinct then between some of the categories that remain."
   ],
   "metadata": {
    "collapsed": false
   }
  },
  {
   "cell_type": "code",
   "execution_count": 148,
   "outputs": [],
   "source": [
    "# For aesthetic purposes:\n",
    "color_dict = {\n",
    "    \"Red\": \"red\",\n",
    "    \"White\": \"yellow\",\n",
    "    \"Sparkling\": \"chartreuse\",\n",
    "    \"Rose\": \"lavenderblush\"\n",
    "}"
   ],
   "metadata": {
    "collapsed": false,
    "pycharm": {
     "name": "#%%\n"
    }
   }
  },
  {
   "cell_type": "code",
   "execution_count": 149,
   "outputs": [],
   "source": [
    "anova_cats = color_dict.keys()"
   ],
   "metadata": {
    "collapsed": false,
    "pycharm": {
     "name": "#%%\n"
    }
   }
  },
  {
   "cell_type": "code",
   "execution_count": 150,
   "outputs": [
    {
     "data": {
      "text/plain": "<Figure size 432x288 with 1 Axes>",
      "image/png": "[encoded data removed]"
     },
     "metadata": {
      "needs_background": "light"
     },
     "output_type": "display_data"
    },
    {
     "data": {
      "text/plain": "<Figure size 432x288 with 1 Axes>",
      "image/png": "[encoded data removed]"
     },
     "metadata": {
      "needs_background": "light"
     },
     "output_type": "display_data"
    },
    {
     "data": {
      "text/plain": "<Figure size 432x288 with 1 Axes>",
      "image/png": "[encoded data removed]"
     },
     "metadata": {
      "needs_background": "light"
     },
     "output_type": "display_data"
    },
    {
     "data": {
      "text/plain": "<Figure size 432x288 with 1 Axes>",
      "image/png": "[encoded data removed]"
     },
     "metadata": {
      "needs_background": "light"
     },
     "output_type": "display_data"
    }
   ],
   "source": [
    "for cat in anova_cats:\n",
    "    plt.hist(df.loc[df[\"category\"] == cat, \"rating\"], color=color_dict[cat])\n",
    "    plt.show()"
   ],
   "metadata": {
    "collapsed": false,
    "pycharm": {
     "name": "#%%\n"
    }
   }
  },
  {
   "cell_type": "markdown",
   "source": [
    "All categories appear approximately normally distributed. We can apply ANOVA, to these 4 categories to see whether there are significant statistical differences between them."
   ],
   "metadata": {
    "collapsed": false
   }
  },
  {
   "cell_type": "code",
   "execution_count": 151,
   "outputs": [],
   "source": [
    "anova_data = [df.loc[df[\"category\"] == cat, \"rating\"] for cat in anova_cats]\n",
    "\n",
    "f_stat, p_anova = stats.f_oneway(anova_data[0], anova_data[1], anova_data[2], anova_data[3])"
   ],
   "metadata": {
    "collapsed": false,
    "pycharm": {
     "name": "#%%\n"
    }
   }
  },
  {
   "cell_type": "code",
   "execution_count": 152,
   "outputs": [
    {
     "data": {
      "text/plain": "1590.528595614146"
     },
     "execution_count": 152,
     "metadata": {},
     "output_type": "execute_result"
    }
   ],
   "source": [
    "f_stat"
   ],
   "metadata": {
    "collapsed": false,
    "pycharm": {
     "name": "#%%\n"
    }
   }
  },
  {
   "cell_type": "code",
   "execution_count": 153,
   "outputs": [
    {
     "data": {
      "text/plain": "0.0"
     },
     "execution_count": 153,
     "metadata": {},
     "output_type": "execute_result"
    }
   ],
   "source": [
    "p_anova"
   ],
   "metadata": {
    "collapsed": false,
    "pycharm": {
     "name": "#%%\n"
    }
   }
  },
  {
   "cell_type": "code",
   "execution_count": 154,
   "outputs": [
    {
     "name": "stdout",
     "output_type": "stream",
     "text": [
      "88.80213070227782\n",
      "88.21433811200536\n",
      "88.67358414781096\n",
      "87.11528242050227\n"
     ]
    }
   ],
   "source": [
    "for l in anova_data:\n",
    "    print(np.average(l))"
   ],
   "metadata": {
    "collapsed": false,
    "pycharm": {
     "name": "#%%\n"
    }
   }
  },
  {
   "cell_type": "markdown",
   "source": [
    "Very significant, not very big difference?"
   ],
   "metadata": {
    "collapsed": false
   }
  },
  {
   "cell_type": "markdown",
   "source": [
    "<h2>T-test</h2>\n",
    "\n",
    "Between different grapes?\n"
   ],
   "metadata": {
    "collapsed": false
   }
  },
  {
   "cell_type": "code",
   "execution_count": 155,
   "outputs": [
    {
     "data": {
      "text/plain": "Pinot Noir                        33523\nChardonnay                        29439\nCabernet Sauvignon                23829\nRed Blends, Red Blends            20012\nBordeaux-style Red Blend          17861\n                                  ...  \nIrsai Oliver, Other White             1\nCayuga White, Other White             1\nSideritis, Greek White                1\nSilvaner-Traminer, White Blend        1\nKaralahna, Other Red                  1\nName: varietal, Length: 869, dtype: int64"
     },
     "execution_count": 155,
     "metadata": {},
     "output_type": "execute_result"
    }
   ],
   "source": [
    "df[\"varietal\"].value_counts()"
   ],
   "metadata": {
    "collapsed": false,
    "pycharm": {
     "name": "#%%\n"
    }
   }
  },
  {
   "cell_type": "markdown",
   "source": [
    "Sauvignon blanc Chardonnay"
   ],
   "metadata": {
    "collapsed": false
   }
  },
  {
   "cell_type": "code",
   "execution_count": 156,
   "outputs": [
    {
     "data": {
      "text/plain": "<Figure size 432x288 with 1 Axes>",
      "image/png": "[encoded data removed]"
     },
     "metadata": {
      "needs_background": "light"
     },
     "output_type": "display_data"
    },
    {
     "name": "stdout",
     "output_type": "stream",
     "text": [
      "87.48776561493882\n"
     ]
    },
    {
     "data": {
      "text/plain": "<Figure size 432x288 with 1 Axes>",
      "image/png": "[encoded data removed]"
     },
     "metadata": {
      "needs_background": "light"
     },
     "output_type": "display_data"
    },
    {
     "name": "stdout",
     "output_type": "stream",
     "text": [
      "88.43279323346582\n"
     ]
    }
   ],
   "source": [
    "tcats = [\"Sauvignon Blanc\", \"Chardonnay\"]\n",
    "\n",
    "for cat in tcats:\n",
    "    plt.hist(df.loc[df[\"varietal\"] == cat, \"rating\"])\n",
    "    plt.show()\n",
    "    print(np.average(df.loc[df[\"varietal\"] == cat, \"rating\"]))"
   ],
   "metadata": {
    "collapsed": false,
    "pycharm": {
     "name": "#%%\n"
    }
   }
  },
  {
   "cell_type": "code",
   "execution_count": 157,
   "outputs": [
    {
     "data": {
      "text/plain": "Ttest_indResult(statistic=-27.58980780866051, pvalue=4.5441493446522265e-166)"
     },
     "execution_count": 157,
     "metadata": {},
     "output_type": "execute_result"
    }
   ],
   "source": [
    "stats.ttest_ind(df.loc[df[\"varietal\"] == tcats[0], \"rating\"], df.loc[df[\"varietal\"] == tcats[1], \"rating\"])"
   ],
   "metadata": {
    "collapsed": false,
    "pycharm": {
     "name": "#%%\n"
    }
   }
  },
  {
   "cell_type": "markdown",
   "source": [
    "Small difference, big significane."
   ],
   "metadata": {
    "collapsed": false
   }
  },
  {
   "cell_type": "markdown",
   "source": [
    "<h2>Linreg + pearson</h2>\n",
    "\n",
    "Alcohol + price = rating?"
   ],
   "metadata": {
    "collapsed": false
   }
  },
  {
   "cell_type": "code",
   "execution_count": 158,
   "outputs": [
    {
     "data": {
      "text/plain": "alcohol    0.154296\nprice      0.554115\nrating     1.000000\nName: rating, dtype: float64"
     },
     "execution_count": 158,
     "metadata": {},
     "output_type": "execute_result"
    }
   ],
   "source": [
    "df[numeric_columns].corr()[\"rating\"]"
   ],
   "metadata": {
    "collapsed": false,
    "pycharm": {
     "name": "#%%\n"
    }
   }
  },
  {
   "cell_type": "markdown",
   "source": [
    "Price correlates to rating medium, alcohol weak.\n",
    "\n",
    "Linreg price -> rating."
   ],
   "metadata": {
    "collapsed": false
   }
  },
  {
   "cell_type": "code",
   "execution_count": 159,
   "outputs": [],
   "source": [
    "df_numeric = df[numeric_columns].dropna()"
   ],
   "metadata": {
    "collapsed": false,
    "pycharm": {
     "name": "#%%\n"
    }
   }
  },
  {
   "cell_type": "code",
   "execution_count": 160,
   "outputs": [],
   "source": [
    "price_transformed = df_numeric[\"price\"].to_numpy().reshape((-1, 1))"
   ],
   "metadata": {
    "collapsed": false,
    "pycharm": {
     "name": "#%%\n"
    }
   }
  },
  {
   "cell_type": "code",
   "execution_count": 161,
   "outputs": [
    {
     "data": {
      "text/plain": "0.3096350837027205"
     },
     "execution_count": 161,
     "metadata": {},
     "output_type": "execute_result"
    }
   ],
   "source": [
    "model_2d = linear_model.LinearRegression()\n",
    "model_2d.fit(price_transformed, df_numeric[\"rating\"])\n",
    "model_2d.score(price_transformed, df_numeric[\"rating\"])"
   ],
   "metadata": {
    "collapsed": false,
    "pycharm": {
     "name": "#%%\n"
    }
   }
  },
  {
   "cell_type": "markdown",
   "source": [
    "Can we make better?"
   ],
   "metadata": {
    "collapsed": false
   }
  },
  {
   "cell_type": "code",
   "execution_count": 162,
   "outputs": [
    {
     "data": {
      "text/plain": "0.30964252431425054"
     },
     "execution_count": 162,
     "metadata": {},
     "output_type": "execute_result"
    }
   ],
   "source": [
    "model_3d = linear_model.LinearRegression()\n",
    "model_3d.fit(df_numeric[[\"price\", \"alcohol\"]], df_numeric[\"rating\"])\n",
    "model_3d.score(df_numeric[[\"price\", \"alcohol\"]], df_numeric[\"rating\"])"
   ],
   "metadata": {
    "collapsed": false,
    "pycharm": {
     "name": "#%%\n"
    }
   }
  },
  {
   "cell_type": "markdown",
   "source": [
    "Not really"
   ],
   "metadata": {
    "collapsed": false
   }
  },
  {
   "cell_type": "code",
   "execution_count": 163,
   "outputs": [
    {
     "data": {
      "text/plain": "(323237, 9)"
     },
     "execution_count": 163,
     "metadata": {},
     "output_type": "execute_result"
    }
   ],
   "source": [
    "df.shape"
   ],
   "metadata": {
    "collapsed": false,
    "pycharm": {
     "name": "#%%\n"
    }
   }
  },
  {
   "cell_type": "code",
   "execution_count": 164,
   "outputs": [
    {
     "data": {
      "text/plain": "winery                     Nominal\ncategory                   Nominal\ndesignation                Nominal\nvarietal                   Nominal\nappellation                Nominal\nalcohol         Continuous - ratio\nprice             Discrete - ratio\nrating         Discrete - interval\nreviewer                   Nominal\ndtype: object"
     },
     "execution_count": 164,
     "metadata": {},
     "output_type": "execute_result"
    }
   ],
   "source": [
    "vars = pd.Series(index=df.columns, data=df.dtypes)\n",
    "vars = vars.map(lambda s: str(s))\n",
    "\n",
    "vars.replace({\"category\": \"nominal\"})\n",
    "\n",
    "vars[\"price\"] = \"Discrete - ratio\"\n",
    "vars[\"rating\"] = \"Discrete - interval\"\n",
    "vars[\"alcohol\"] = \"Continuous - ratio\"\n",
    "\n",
    "vars[[\"winery\", \"category\", \"designation\", \"varietal\", \"appellation\", \"reviewer\"]] = \"Nominal\"\n",
    "\n",
    "vars"
   ],
   "metadata": {
    "collapsed": false,
    "pycharm": {
     "name": "#%%\n"
    }
   }
  },
  {
   "cell_type": "markdown",
   "source": [],
   "metadata": {
    "collapsed": false,
    "pycharm": {
     "name": "#%% md\n"
    }
   }
  },
  {
   "cell_type": "code",
   "execution_count": 174,
   "outputs": [
    {
     "data": {
      "text/plain": "Text(0.5, 1.0, 'Price/Rating scatterplot')"
     },
     "execution_count": 174,
     "metadata": {},
     "output_type": "execute_result"
    },
    {
     "data": {
      "text/plain": "<Figure size 432x288 with 1 Axes>",
      "image/png": "[encoded data removed]"
     },
     "metadata": {
      "needs_background": "light"
     },
     "output_type": "display_data"
    }
   ],
   "source": [
    "plt.scatter(df_numeric[\"price\"], df_numeric[\"rating\"], s=0.5, alpha=.9999)\n",
    "plt.xlabel(\"Price in $\")\n",
    "plt.ylabel(\"Rating in points\")\n",
    "plt.title(\"Price/Rating scatterplot\")\n"
   ],
   "metadata": {
    "collapsed": false,
    "pycharm": {
     "name": "#%%\n"
    }
   }
  },
  {
   "cell_type": "code",
   "execution_count": null,
   "outputs": [],
   "source": [],
   "metadata": {
    "collapsed": false,
    "pycharm": {
     "name": "#%%\n"
    }
   }
  }
 ],
 "metadata": {
  "kernelspec": {
   "display_name": "Python 3",
   "language": "python",
   "name": "python3"
  },
  "language_info": {
   "codemirror_mode": {
    "name": "ipython",
    "version": 2
   },
   "file_extension": ".py",
   "mimetype": "text/x-python",
   "name": "python",
   "nbconvert_exporter": "python",
   "pygments_lexer": "ipython2",
   "version": "2.7.6"
  }
 },
 "nbformat": 4,
 "nbformat_minor": 0
}