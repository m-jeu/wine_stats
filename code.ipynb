{
 "cells": [
  {
   "cell_type": "markdown",
   "metadata": {},
   "source": [
    "<h1>Final Assignment: Honours-engineering+, Statistics course</h1>\n",
    "<i>Maarten de Jeu</i>\n",
    "\n",
    "This is my implementation for the Final Assignment for my statistics course. It requires performing a specific set of statistical tests (T-Test, ANOVA, Pearson's R, Linear Regression) on a dataset that I provide. Besides this, it's also expected that the document adheres to some more minor specifications, like the presence of graphs that are in some way useful.\n",
    "\n",
    "The dataset I chose for this assignment is the wine review dataset as provided by <i>McQuire, 2022</i>. Specifically, I'm interested in differences in rating given to different wines according to certain features. I'll specifically be focussing on wines relevant to <i>an average Dutch consumer</i>, for as much as that means anything.\n",
    "\n",
    "\n",
    "For any of the specified statistical tests, we set a required confidence of at least 95% to draw any conclusions from them."
   ]
  },
  {
   "cell_type": "markdown",
   "metadata": {},
   "source": []
  },
  {
   "cell_type": "code",
   "execution_count": 204,
   "metadata": {
    "pycharm": {
     "name": "#%%\n"
    }
   },
   "outputs": [],
   "source": [
    "import numpy as np\n",
    "import pandas as pd\n",
    "import matplotlib.pyplot as plt\n",
    "%matplotlib inline\n",
    "from sklearn import linear_model\n",
    "import seaborn as sns\n",
    "\n",
    "from scipy import stats"
   ]
  },
  {
   "cell_type": "code",
   "execution_count": 205,
   "metadata": {
    "pycharm": {
     "name": "#%%\n"
    }
   },
   "outputs": [
    {
     "data": {
      "text/plain": [
       "wine           object\n",
       "winery         object\n",
       "category       object\n",
       "designation    object\n",
       "varietal       object\n",
       "appellation    object\n",
       "alcohol        object\n",
       "price          object\n",
       "rating          int64\n",
       "reviewer       object\n",
       "review         object\n",
       "dtype: object"
      ]
     },
     "execution_count": 205,
     "metadata": {},
     "output_type": "execute_result"
    }
   ],
   "source": [
    "df = pd.read_csv(\"wine.csv\")\n",
    "df.dtypes"
   ]
  },
  {
   "cell_type": "code",
   "execution_count": 206,
   "metadata": {
    "pycharm": {
     "name": "#%%\n"
    }
   },
   "outputs": [
    {
     "data": {
      "text/plain": [
       "(323237, 11)"
      ]
     },
     "execution_count": 206,
     "metadata": {},
     "output_type": "execute_result"
    }
   ],
   "source": [
    "df.shape"
   ]
  },
  {
   "cell_type": "markdown",
   "metadata": {},
   "source": [
    "When reading a CSV-file, Pandas attempts to convert all numeric columns to the proper datatype. Whenever these are not formatted in a way Pandas is sure to correctly interpret, they are left as Strings. Some data-engineering in this regard is required, because not all columns have been interpreted as one would expect them to be. We'll start out with that.\n",
    "\n",
    "<h2>DataType-Engineering</h2>\n",
    "\n",
    "<h3>Numeric columns</h3>\n",
    "\n",
    "Out of the columns expected to be numeric (alcohol, price and rating), only rating has been correctly identified as numeric. We'll examine what the values look like to get a better understanding of the required operations."
   ]
  },
  {
   "cell_type": "code",
   "execution_count": 207,
   "metadata": {
    "pycharm": {
     "name": "#%%\n"
    }
   },
   "outputs": [],
   "source": [
    "numeric_columns = [\"alcohol\", \"price\", \"rating\"]"
   ]
  },
  {
   "cell_type": "code",
   "execution_count": 208,
   "metadata": {
    "pycharm": {
     "name": "#%%\n"
    }
   },
   "outputs": [
    {
     "data": {
      "text/html": [
       "<div>\n",
       "<style scoped>\n",
       "    .dataframe tbody tr th:only-of-type {\n",
       "        vertical-align: middle;\n",
       "    }\n",
       "\n",
       "    .dataframe tbody tr th {\n",
       "        vertical-align: top;\n",
       "    }\n",
       "\n",
       "    .dataframe thead th {\n",
       "        text-align: right;\n",
       "    }\n",
       "</style>\n",
       "<table border=\"1\" class=\"dataframe\">\n",
       "  <thead>\n",
       "    <tr style=\"text-align: right;\">\n",
       "      <th></th>\n",
       "      <th>alcohol</th>\n",
       "      <th>price</th>\n",
       "      <th>rating</th>\n",
       "    </tr>\n",
       "  </thead>\n",
       "  <tbody>\n",
       "    <tr>\n",
       "      <th>0</th>\n",
       "      <td>NaN</td>\n",
       "      <td>$32</td>\n",
       "      <td>87</td>\n",
       "    </tr>\n",
       "    <tr>\n",
       "      <th>1</th>\n",
       "      <td>15%</td>\n",
       "      <td>$17</td>\n",
       "      <td>85</td>\n",
       "    </tr>\n",
       "    <tr>\n",
       "      <th>2</th>\n",
       "      <td>NaN</td>\n",
       "      <td>NaN</td>\n",
       "      <td>90</td>\n",
       "    </tr>\n",
       "    <tr>\n",
       "      <th>3</th>\n",
       "      <td>13.5%</td>\n",
       "      <td>$18</td>\n",
       "      <td>86</td>\n",
       "    </tr>\n",
       "    <tr>\n",
       "      <th>4</th>\n",
       "      <td>13.5%</td>\n",
       "      <td>$21</td>\n",
       "      <td>85</td>\n",
       "    </tr>\n",
       "    <tr>\n",
       "      <th>5</th>\n",
       "      <td>15.1%</td>\n",
       "      <td>$40</td>\n",
       "      <td>89</td>\n",
       "    </tr>\n",
       "    <tr>\n",
       "      <th>6</th>\n",
       "      <td>15.1%</td>\n",
       "      <td>$60</td>\n",
       "      <td>92</td>\n",
       "    </tr>\n",
       "    <tr>\n",
       "      <th>7</th>\n",
       "      <td>12%</td>\n",
       "      <td>$19</td>\n",
       "      <td>88</td>\n",
       "    </tr>\n",
       "    <tr>\n",
       "      <th>8</th>\n",
       "      <td>13%</td>\n",
       "      <td>$16</td>\n",
       "      <td>87</td>\n",
       "    </tr>\n",
       "    <tr>\n",
       "      <th>9</th>\n",
       "      <td>13.5%</td>\n",
       "      <td>$30</td>\n",
       "      <td>89</td>\n",
       "    </tr>\n",
       "  </tbody>\n",
       "</table>\n",
       "</div>"
      ],
      "text/plain": [
       "  alcohol price  rating\n",
       "0     NaN   $32      87\n",
       "1     15%   $17      85\n",
       "2     NaN   NaN      90\n",
       "3   13.5%   $18      86\n",
       "4   13.5%   $21      85\n",
       "5   15.1%   $40      89\n",
       "6   15.1%   $60      92\n",
       "7     12%   $19      88\n",
       "8     13%   $16      87\n",
       "9   13.5%   $30      89"
      ]
     },
     "execution_count": 208,
     "metadata": {},
     "output_type": "execute_result"
    }
   ],
   "source": [
    "df[numeric_columns].head(10)"
   ]
  },
  {
   "cell_type": "markdown",
   "metadata": {},
   "source": [
    "Rating has already been identified correctly as Integer. We'll work through the other 2, one at a time, to fix them as well.\n",
    "\n",
    "<h4>Alcohol</h4>\n",
    "\n",
    "Alcohol has some NaN values where the data is missing in the dataset. Besides those, everything is formatted as a floating-point number with '%' as suffix. We can fix this by applying a simple string-formatting function to the entire columns, and then converting to floating points numbers. Before doing this however, we'll note how many missing values there are, to make sure we don't accidentally lose more data through wrong assumptions about string formatting. These missing values are interpreted as the float datatype, which we should make sure not to affect with our string formatting function."
   ]
  },
  {
   "cell_type": "code",
   "execution_count": 209,
   "metadata": {
    "pycharm": {
     "name": "#%%\n"
    }
   },
   "outputs": [
    {
     "data": {
      "text/plain": [
       "'There are 41021 missing values in the alcohol column.'"
      ]
     },
     "execution_count": 209,
     "metadata": {},
     "output_type": "execute_result"
    }
   ],
   "source": [
    "f\"There are {df['alcohol'].isna().sum()} missing values in the alcohol column.\""
   ]
  },
  {
   "cell_type": "code",
   "execution_count": 210,
   "metadata": {
    "pycharm": {
     "name": "#%%\n"
    }
   },
   "outputs": [],
   "source": [
    "df[\"new alcohol\"] = df[\"alcohol\"].map(\n",
    "    lambda string: string.strip(\"%\"),\n",
    "    na_action=\"ignore\"\n",
    ")\n",
    "\n",
    "df[\"new alcohol\"] = pd.to_numeric(df[\"new alcohol\"])"
   ]
  },
  {
   "cell_type": "code",
   "execution_count": 211,
   "metadata": {
    "pycharm": {
     "name": "#%%\n"
    }
   },
   "outputs": [
    {
     "data": {
      "text/plain": [
       "'There are 41021 missing values in the new alcohol column.'"
      ]
     },
     "execution_count": 211,
     "metadata": {},
     "output_type": "execute_result"
    }
   ],
   "source": [
    "f\"There are {df['new alcohol'].isna().sum()} missing values in the new alcohol column.\""
   ]
  },
  {
   "cell_type": "markdown",
   "metadata": {},
   "source": [
    "The same amount of values remain, and we've successfully converted the column to floating-point numbers. We'll overwrite the old alcohol column, and drop the new one, so we can move on to the next column."
   ]
  },
  {
   "cell_type": "code",
   "execution_count": 212,
   "metadata": {
    "pycharm": {
     "name": "#%%\n"
    }
   },
   "outputs": [],
   "source": [
    "df[\"alcohol\"] = df[\"new alcohol\"]\n",
    "df.drop(columns=\"new alcohol\", inplace=True)"
   ]
  },
  {
   "cell_type": "markdown",
   "metadata": {},
   "source": [
    "<h4>Price</h4>\n",
    "\n",
    "From our initial look at a subset of values in the numeric columns, it appears the steps that need to be taken to correct the datatype of the price column are similar to the steps we took with the alcohol column. This time, we have a '$' prefix instead."
   ]
  },
  {
   "cell_type": "code",
   "execution_count": 213,
   "metadata": {
    "pycharm": {
     "name": "#%%\n"
    }
   },
   "outputs": [
    {
     "data": {
      "text/plain": [
       "'There are 23955 missing values in the price column.'"
      ]
     },
     "execution_count": 213,
     "metadata": {},
     "output_type": "execute_result"
    }
   ],
   "source": [
    "f\"There are {df['price'].isna().sum()} missing values in the price column.\""
   ]
  },
  {
   "cell_type": "code",
   "execution_count": 214,
   "metadata": {
    "pycharm": {
     "name": "#%%\n"
    }
   },
   "outputs": [],
   "source": [
    "df[\"new price\"] = df[\"price\"].map(\n",
    "    lambda string: string.strip(\"$\"),\n",
    "    na_action=\"ignore\"\n",
    ")\n",
    "\n",
    "df[\"new price\"] = pd.to_numeric(df[\"new price\"], errors=\"coerce\")"
   ]
  },
  {
   "cell_type": "code",
   "execution_count": 215,
   "metadata": {
    "pycharm": {
     "name": "#%%\n"
    }
   },
   "outputs": [
    {
     "data": {
      "text/plain": [
       "'There are 31199 missing values in the new price column.'"
      ]
     },
     "execution_count": 215,
     "metadata": {},
     "output_type": "execute_result"
    }
   ],
   "source": [
    "f\"There are {df['new price'].isna().sum()} missing values in the new price column.\""
   ]
  },
  {
   "cell_type": "markdown",
   "metadata": {},
   "source": [
    "It appears we did lose some data in this conversion. Considering there are 300.000+ records in the dataset, this reduction of sample-size is not catastrophic. Still, let's see if we can get some insight into the lost values. To do this, we'll view a subset of the dataset where values are NaN in the new column, but where not NaN in the old column."
   ]
  },
  {
   "cell_type": "code",
   "execution_count": 216,
   "metadata": {
    "pycharm": {
     "name": "#%%\n"
    }
   },
   "outputs": [],
   "source": [
    "price_not_formatted = df[df[\"new price\"].isna() & df[\"price\"].notna()]"
   ]
  },
  {
   "cell_type": "code",
   "execution_count": 217,
   "metadata": {
    "pycharm": {
     "name": "#%%\n"
    }
   },
   "outputs": [
    {
     "data": {
      "text/plain": [
       "VivinoGary's Wine                            3024\n",
       "VivinoWine.com                               1586\n",
       "DrizlyVivino                                 1165\n",
       "VivinoWine Express                            280\n",
       "VivinoGary's WineTotal Wine                   204\n",
       "                                             ... \n",
       "Wine.comVivinoGary's Wine                       1\n",
       "VivinoTotal WineWine ExpressWine.com            1\n",
       "DrizlyVivinoTotal WineWine.com                  1\n",
       "VivinoGary's WineTotal WineWired for Wine       1\n",
       "Total WineParcelle                              1\n",
       "Name: price, Length: 83, dtype: int64"
      ]
     },
     "execution_count": 217,
     "metadata": {},
     "output_type": "execute_result"
    }
   ],
   "source": [
    "price_not_formatted[\"price\"].value_counts()"
   ]
  },
  {
   "cell_type": "markdown",
   "metadata": {},
   "source": [
    "These are clearly not useful prices, that could ever be converted to prices. We can replace the old price column with the new one, drop the new one, and drop mark the dataframe we just created for garbage collection."
   ]
  },
  {
   "cell_type": "code",
   "execution_count": 218,
   "metadata": {
    "pycharm": {
     "name": "#%%\n"
    }
   },
   "outputs": [],
   "source": [
    "df[\"price\"] = df[\"new price\"]\n",
    "df.drop(columns=\"new price\", inplace=True)\n",
    "price_not_formatted = None  # Make DataFrame go out of scope, so that garbage collector cleans it up."
   ]
  },
  {
   "cell_type": "markdown",
   "metadata": {
    "pycharm": {
     "name": "#%% md\n"
    }
   },
   "source": [
    "We have corrected the incorrect Data Types in the numeric columns, so now we can move on to the other columns.\n",
    "\n",
    "<h3>Categorical Variables</h3>\n",
    "\n",
    "Some of the categorical variables need some work as well. We'll print out the data once more to gain some insight."
   ]
  },
  {
   "cell_type": "code",
   "execution_count": 219,
   "metadata": {
    "pycharm": {
     "name": "#%%\n"
    }
   },
   "outputs": [
    {
     "data": {
      "text/html": [
       "<div>\n",
       "<style scoped>\n",
       "    .dataframe tbody tr th:only-of-type {\n",
       "        vertical-align: middle;\n",
       "    }\n",
       "\n",
       "    .dataframe tbody tr th {\n",
       "        vertical-align: top;\n",
       "    }\n",
       "\n",
       "    .dataframe thead th {\n",
       "        text-align: right;\n",
       "    }\n",
       "</style>\n",
       "<table border=\"1\" class=\"dataframe\">\n",
       "  <thead>\n",
       "    <tr style=\"text-align: right;\">\n",
       "      <th></th>\n",
       "      <th>wine</th>\n",
       "      <th>winery</th>\n",
       "      <th>category</th>\n",
       "      <th>designation</th>\n",
       "      <th>varietal</th>\n",
       "      <th>appellation</th>\n",
       "      <th>alcohol</th>\n",
       "      <th>price</th>\n",
       "      <th>rating</th>\n",
       "      <th>reviewer</th>\n",
       "      <th>review</th>\n",
       "    </tr>\n",
       "  </thead>\n",
       "  <tbody>\n",
       "    <tr>\n",
       "      <th>0</th>\n",
       "      <td>J. Lohr 2000 Hilltop Vineyard Cabernet Sauvign...</td>\n",
       "      <td>J. Lohr</td>\n",
       "      <td>Red</td>\n",
       "      <td>Hilltop Vineyard</td>\n",
       "      <td>Cabernet Sauvignon</td>\n",
       "      <td>Paso Robles, Central Coast, California, US</td>\n",
       "      <td>NaN</td>\n",
       "      <td>32.0</td>\n",
       "      <td>87</td>\n",
       "      <td>NaN</td>\n",
       "      <td>Held back nearly five years, this Cab still ha...</td>\n",
       "    </tr>\n",
       "    <tr>\n",
       "      <th>1</th>\n",
       "      <td>Antucura 2010 Pinot Noir (Vista Flores)</td>\n",
       "      <td>Antucura</td>\n",
       "      <td>Red</td>\n",
       "      <td>NaN</td>\n",
       "      <td>Pinot Noir</td>\n",
       "      <td>Vista Flores, Mendoza Province, Argentina</td>\n",
       "      <td>15.0</td>\n",
       "      <td>17.0</td>\n",
       "      <td>85</td>\n",
       "      <td>Michael Schachner</td>\n",
       "      <td>Rubbery, bold and earthy on the nose, then ful...</td>\n",
       "    </tr>\n",
       "    <tr>\n",
       "      <th>2</th>\n",
       "      <td>Quinta do Portal 1999 Quinta do Portal Reserva...</td>\n",
       "      <td>Quinta do Portal</td>\n",
       "      <td>Red</td>\n",
       "      <td>Quinta do Portal Reserva</td>\n",
       "      <td>Red Blends, Red Blends</td>\n",
       "      <td>Douro, Portugal</td>\n",
       "      <td>NaN</td>\n",
       "      <td>NaN</td>\n",
       "      <td>90</td>\n",
       "      <td>Roger Voss</td>\n",
       "      <td>Smoky, meaty aromas lead into perfumed fruit f...</td>\n",
       "    </tr>\n",
       "    <tr>\n",
       "      <th>3</th>\n",
       "      <td>Tenuta di Ghizzano 2006 Il Ghizzano Red (Toscana)</td>\n",
       "      <td>Tenuta di Ghizzano</td>\n",
       "      <td>Red</td>\n",
       "      <td>Il Ghizzano</td>\n",
       "      <td>Red Blends, Red Blends</td>\n",
       "      <td>Toscana, Tuscany, Italy</td>\n",
       "      <td>13.5</td>\n",
       "      <td>18.0</td>\n",
       "      <td>86</td>\n",
       "      <td>NaN</td>\n",
       "      <td>The nose is rather neutral save for distant ar...</td>\n",
       "    </tr>\n",
       "    <tr>\n",
       "      <th>4</th>\n",
       "      <td>Tenuta San Francesco 2007 Tramonti White (Camp...</td>\n",
       "      <td>Tenuta San Francesco</td>\n",
       "      <td>White</td>\n",
       "      <td>Tramonti</td>\n",
       "      <td>White Blend</td>\n",
       "      <td>Campania, Southern Italy, Italy</td>\n",
       "      <td>13.5</td>\n",
       "      <td>21.0</td>\n",
       "      <td>85</td>\n",
       "      <td>NaN</td>\n",
       "      <td>This intriguing blend of Falanghina, Biancolel...</td>\n",
       "    </tr>\n",
       "  </tbody>\n",
       "</table>\n",
       "</div>"
      ],
      "text/plain": [
       "                                                wine                winery  \\\n",
       "0  J. Lohr 2000 Hilltop Vineyard Cabernet Sauvign...               J. Lohr   \n",
       "1            Antucura 2010 Pinot Noir (Vista Flores)              Antucura   \n",
       "2  Quinta do Portal 1999 Quinta do Portal Reserva...      Quinta do Portal   \n",
       "3  Tenuta di Ghizzano 2006 Il Ghizzano Red (Toscana)    Tenuta di Ghizzano   \n",
       "4  Tenuta San Francesco 2007 Tramonti White (Camp...  Tenuta San Francesco   \n",
       "\n",
       "  category               designation                varietal  \\\n",
       "0      Red          Hilltop Vineyard      Cabernet Sauvignon   \n",
       "1      Red                       NaN              Pinot Noir   \n",
       "2      Red  Quinta do Portal Reserva  Red Blends, Red Blends   \n",
       "3      Red               Il Ghizzano  Red Blends, Red Blends   \n",
       "4    White                  Tramonti             White Blend   \n",
       "\n",
       "                                  appellation  alcohol  price  rating  \\\n",
       "0  Paso Robles, Central Coast, California, US      NaN   32.0      87   \n",
       "1   Vista Flores, Mendoza Province, Argentina     15.0   17.0      85   \n",
       "2                             Douro, Portugal      NaN    NaN      90   \n",
       "3                     Toscana, Tuscany, Italy     13.5   18.0      86   \n",
       "4             Campania, Southern Italy, Italy     13.5   21.0      85   \n",
       "\n",
       "            reviewer                                             review  \n",
       "0                NaN  Held back nearly five years, this Cab still ha...  \n",
       "1  Michael Schachner  Rubbery, bold and earthy on the nose, then ful...  \n",
       "2         Roger Voss  Smoky, meaty aromas lead into perfumed fruit f...  \n",
       "3                NaN  The nose is rather neutral save for distant ar...  \n",
       "4                NaN  This intriguing blend of Falanghina, Biancolel...  "
      ]
     },
     "execution_count": 219,
     "metadata": {},
     "output_type": "execute_result"
    }
   ],
   "source": [
    "df.head(5)"
   ]
  },
  {
   "cell_type": "markdown",
   "metadata": {},
   "source": [
    "There are some variables that are absolutely not useful in any way for the questions we're trying to answer, like the review text, and the wine's title. We can safely remove these from the dataset."
   ]
  },
  {
   "cell_type": "code",
   "execution_count": 220,
   "metadata": {
    "pycharm": {
     "name": "#%%\n"
    }
   },
   "outputs": [],
   "source": [
    "df.drop(\n",
    "    columns=[\"wine\", \"review\"],\n",
    "    inplace=True\n",
    ")"
   ]
  },
  {
   "cell_type": "markdown",
   "metadata": {},
   "source": [
    "The other columns can be interpreted as categorical variables. To improve readability, we can mark these columns as categories."
   ]
  },
  {
   "cell_type": "code",
   "execution_count": 221,
   "metadata": {
    "pycharm": {
     "name": "#%%\n"
    }
   },
   "outputs": [],
   "source": [
    "categorical_columns = [\"winery\", \"category\", \"designation\", \"varietal\", \"appellation\", \"reviewer\"]"
   ]
  },
  {
   "cell_type": "code",
   "execution_count": 222,
   "metadata": {
    "pycharm": {
     "name": "#%%\n"
    }
   },
   "outputs": [
    {
     "data": {
      "text/plain": [
       "winery         category\n",
       "category       category\n",
       "designation    category\n",
       "varietal       category\n",
       "appellation    category\n",
       "alcohol         float64\n",
       "price           float64\n",
       "rating            int64\n",
       "reviewer       category\n",
       "dtype: object"
      ]
     },
     "execution_count": 222,
     "metadata": {},
     "output_type": "execute_result"
    }
   ],
   "source": [
    "df[categorical_columns] = df[categorical_columns].astype(\"category\")\n",
    "df.dtypes"
   ]
  },
  {
   "cell_type": "markdown",
   "metadata": {},
   "source": [
    "That's all the datatypes taken care of.\n",
    "\n",
    "<h2>Outliers</h2>\n",
    "\n",
    "The numerical columns could very well contain outliers. We can get a sense of these through boxplots.\n",
    "\n"
   ]
  },
  {
   "cell_type": "code",
   "execution_count": 223,
   "metadata": {
    "pycharm": {
     "name": "#%%\n"
    }
   },
   "outputs": [
    {
     "data": {
      "image/png": "[encoded data removed]",
      "text/plain": [
       "<Figure size 432x288 with 1 Axes>"
      ]
     },
     "metadata": {
      "needs_background": "light"
     },
     "output_type": "display_data"
    },
    {
     "data": {
      "image/png": "[encoded data removed]",
      "text/plain": [
       "<Figure size 432x288 with 1 Axes>"
      ]
     },
     "metadata": {
      "needs_background": "light"
     },
     "output_type": "display_data"
    },
    {
     "data": {
      "image/png": "[encoded data removed]",
      "text/plain": [
       "<Figure size 432x288 with 1 Axes>"
      ]
     },
     "metadata": {
      "needs_background": "light"
     },
     "output_type": "display_data"
    }
   ],
   "source": [
    "for col in numeric_columns:\n",
    "    p = sns.boxplot(data=df[col])\n",
    "    p.set_ylabel(numeric_columns)\n",
    "    plt.show()"
   ]
  },
  {
   "cell_type": "code",
   "execution_count": 224,
   "metadata": {
    "pycharm": {
     "name": "#%%\n"
    }
   },
   "outputs": [
    {
     "data": {
      "image/png": "[encoded data removed]",
      "text/plain": [
       "<Figure size 432x288 with 3 Axes>"
      ]
     },
     "metadata": {
      "needs_background": "light"
     },
     "output_type": "display_data"
    }
   ],
   "source": [
    "fig = plt.figure()\n",
    "fig.subplots_adjust(wspace=.8)\n",
    "fig.suptitle(\"Numeric variable boxplots\")\n",
    "\n",
    "for i, col in enumerate(numeric_columns):\n",
    "    ax = fig.add_subplot(1, 3, i + 1)\n",
    "    ax.boxplot(df.loc[df[col].notna(), col])\n",
    "    ax.set_ylabel(\"Value\")\n",
    "    ax.set_title(col.capitalize())\n"
   ]
  },
  {
   "cell_type": "markdown",
   "metadata": {},
   "source": [
    "Alcohol and price appear to have some significant outliers. We can take care of those individually.\n",
    "\n",
    "<h4>Alcohol</h4>\n",
    "\n",
    "It's a fact of nature that a liquid can't have an alcohol percentage higher then 100%. We can go even lower by specifying our definition of wine. In the Netherlands, the highest permitted alcohol percentage for wine is set at 18.0%, with a lower limit for some categories. We'll remove any wines that violate that constraint.\n",
    "\n",
    "The mininum amount of alcohol that a wine should have, to be called a wine in the Netherlands, is 1.2%, according to <i>Belastingdienst, 2020</i>. We can also remove any wines that violate that law."
   ]
  },
  {
   "cell_type": "code",
   "execution_count": 225,
   "metadata": {
    "pycharm": {
     "name": "#%%\n"
    }
   },
   "outputs": [],
   "source": [
    "df[\"alcohol\"] = df.loc[((df[\"alcohol\"] <= 18) & (df[\"alcohol\"] >= 1.2)), \"alcohol\"]"
   ]
  },
  {
   "cell_type": "markdown",
   "metadata": {},
   "source": [
    "\n",
    "<h4>Price</h4>\n",
    "\n",
    "As one might expect, even though the bulk of wine seems to be in the price range of what most consumers would consider 'reasonable', there are some very expensive exceptions. We're interested most in the types of wines that a more average consumer would consume on a more regular basis, then in wines that would be considered 'luxury'. It's hard to base a limit of what to exclude on non-statistical information, considering what a person considers luxury is very much a cultural and personal thing. Therefore, we'll set the limit of what to exclude as at least 3 inter-quartile ranges away from both q1 and q3, considering this is quite a common definition of 'extreme outliers'. #TODO(m-jeu): Bron."
   ]
  },
  {
   "cell_type": "code",
   "execution_count": 226,
   "metadata": {
    "pycharm": {
     "name": "#%%\n"
    }
   },
   "outputs": [],
   "source": [
    "q1 = df[\"price\"].quantile(.25)\n",
    "q3 = df[\"price\"].quantile(.75)\n",
    "\n",
    "iqr3 = (q3 - q1) * 3\n",
    "df[\"price\"] = df.loc[\n",
    "    ((df[\"price\"] < q3 + iqr3) & (df[\"price\"] > q1 - iqr3)),\n",
    "    \"price\"\n",
    "]"
   ]
  },
  {
   "cell_type": "markdown",
   "metadata": {},
   "source": [
    "We've remove the outliers, now we can move on.\n",
    "\n",
    "<h2>Distributions</h2>\n",
    "\n",
    "Having removed the outliers, we can have a look at the exact distributions through histograms."
   ]
  },
  {
   "cell_type": "code",
   "execution_count": 227,
   "metadata": {
    "pycharm": {
     "name": "#%%\n"
    }
   },
   "outputs": [
    {
     "data": {
      "image/png": "[encoded data removed]",
      "text/plain": [
       "<Figure size 720x720 with 3 Axes>"
      ]
     },
     "metadata": {
      "needs_background": "light"
     },
     "output_type": "display_data"
    }
   ],
   "source": [
    "fig = plt.figure(figsize=(10, 10))\n",
    "fig.subplots_adjust(wspace=.8)\n",
    "fig.suptitle(\"Numeric variable distributions\")\n",
    "\n",
    "for i, col in enumerate(numeric_columns):\n",
    "    ax = fig.add_subplot(2, 2, i + 1)\n",
    "    ax.hist(df.loc[df[col].notna(), col], bins=20)\n",
    "    ax.set_ylabel(\"Frequency\")\n",
    "    ax.set_xlabel(\"Value\")\n",
    "    ax.set_title(col.capitalize())\n"
   ]
  },
  {
   "cell_type": "markdown",
   "metadata": {},
   "source": [
    "Rating appears normally distributed. Price appears to be log normally distributed, but would require further testing. Alcohol's distribution is hard to gauge, because we permitted outliers far from the centre to remain in the sample. We can zoom in, to allow us to see the distribution more clearly."
   ]
  },
  {
   "cell_type": "code",
   "execution_count": 228,
   "metadata": {
    "pycharm": {
     "name": "#%%\n"
    }
   },
   "outputs": [
    {
     "data": {
      "text/plain": [
       "Text(0.5, 1.0, 'Frequency of alcohol measurements, zoomed in to centre of distribution')"
      ]
     },
     "execution_count": 228,
     "metadata": {},
     "output_type": "execute_result"
    },
    {
     "data": {
      "image/png": "[encoded data removed]",
      "text/plain": [
       "<Figure size 432x288 with 1 Axes>"
      ]
     },
     "metadata": {
      "needs_background": "light"
     },
     "output_type": "display_data"
    }
   ],
   "source": [
    "plt.hist(df.loc[df[\"alcohol\"] > 10, \"alcohol\"], bins=20)\n",
    "plt.xlabel(\"Value\")\n",
    "plt.ylabel(\"Frequency\")\n",
    "plt.title(\"Frequency of alcohol measurements, zoomed in to centre of distribution\")"
   ]
  },
  {
   "cell_type": "markdown",
   "metadata": {},
   "source": [
    "Alcohol percentage also appears like it potentially could be normally distributed, but would require more looking into as well. Considering the size of the sample (300.000+) would, to my knowledge, break most normality tests. And considering the fact that the parametric statistical tests that the assignment expects me to use (ANOVA, T-Test) don't require normally distributed data for large sample sizes according to Ghasemi, A., &#38; Zahediasl, S. (2012), we don't need to perform any normality testing on the data."
   ]
  },
  {
   "cell_type": "markdown",
   "metadata": {
    "pycharm": {
     "name": "#%% md\n"
    }
   },
   "source": [
    "<h2>Hypotheses and tests</h2>\n",
    "\n",
    "Having engineered and examined in a more general sense, we can start working towards the specific hypotheses and tests.\n",
    "\n",
    "<h3>ANOVA: Wine Categories</h3>\n",
    "\n",
    "The first thing I'm interested in examining is the difference in rating between different types of wines. We have the following categories in our dataset:"
   ]
  },
  {
   "cell_type": "code",
   "execution_count": 229,
   "metadata": {
    "pycharm": {
     "name": "#%%\n"
    }
   },
   "outputs": [
    {
     "data": {
      "text/plain": [
       "Red            194396\n",
       "White           95424\n",
       "Sparkling       14938\n",
       "Rose            11667\n",
       "Dessert          4329\n",
       "Port/Sherry      2257\n",
       "Fortified         226\n",
       "Name: category, dtype: int64"
      ]
     },
     "execution_count": 229,
     "metadata": {},
     "output_type": "execute_result"
    }
   ],
   "source": [
    "df[\"category\"].value_counts()"
   ]
  },
  {
   "cell_type": "markdown",
   "metadata": {},
   "source": [
    "We'll leave Port/Sherry out of scope, because parts of those are categories that already lost quite some wines by excluding based on alcohol percentage. We'll also exclude dessert wine, because the line between dessert wine and other types of wine is less distinct then between some of the categories that remain.\n",
    "\n",
    "That means, specifically, we'll be testing the hypothesis <b>There's a statistically significant difference between the mean ratings of red wine, white wine, sparkling wine and rose</b>. The perfect test for this is the One-Way ANOVA test."
   ]
  },
  {
   "cell_type": "code",
   "execution_count": 230,
   "metadata": {
    "pycharm": {
     "name": "#%%\n"
    }
   },
   "outputs": [],
   "source": [
    "anova_cats = [\"Red\", \"White\", \"Sparkling\", \"Rose\"]\n",
    "anova_data = [df.loc[df[\"category\"] == cat, \"rating\"] for cat in anova_cats]\n",
    "\n",
    "f_stat, p_anova = stats.f_oneway(anova_data[0], anova_data[1], anova_data[2], anova_data[3])"
   ]
  },
  {
   "cell_type": "code",
   "execution_count": 231,
   "metadata": {
    "pycharm": {
     "name": "#%%\n"
    }
   },
   "outputs": [
    {
     "data": {
      "text/plain": [
       "1590.528595614146"
      ]
     },
     "execution_count": 231,
     "metadata": {},
     "output_type": "execute_result"
    }
   ],
   "source": [
    "f_stat"
   ]
  },
  {
   "cell_type": "code",
   "execution_count": 232,
   "metadata": {
    "pycharm": {
     "name": "#%%\n"
    }
   },
   "outputs": [
    {
     "data": {
      "text/plain": [
       "0.0"
      ]
     },
     "execution_count": 232,
     "metadata": {},
     "output_type": "execute_result"
    }
   ],
   "source": [
    "p_anova"
   ]
  },
  {
   "cell_type": "markdown",
   "metadata": {},
   "source": [
    "The ANOVA-test shows F = 1590, P < .0001. A 0% probability of anything sounds ridiculous when one takes the entropy of the universe into consideration, but we can interpret this as a probability so small that Python won't show us what the number actually is. With this, we can reject the null hypothesis \"There is no statistically significant difference between the means of the different groups\" and accept the alternative hypothesis we specified earlier.\n",
    "\n",
    "We can also look at the actual values of the means to gain some more insight."
   ]
  },
  {
   "cell_type": "code",
   "execution_count": 233,
   "metadata": {
    "pycharm": {
     "name": "#%%\n"
    }
   },
   "outputs": [
    {
     "name": "stdout",
     "output_type": "stream",
     "text": [
      "Red has a mean of 88.80213070227782.\n",
      "White has a mean of 88.21433811200536.\n",
      "Sparkling has a mean of 88.67358414781096.\n",
      "Rose has a mean of 87.11528242050227.\n"
     ]
    }
   ],
   "source": [
    "for name, data in zip(anova_cats, anova_data):\n",
    "    print(f\"{name} has a mean of {np.average(data)}.\")"
   ]
  },
  {
   "cell_type": "markdown",
   "metadata": {},
   "source": [
    "As it turns out, the statistically significant difference we detected is not terribly big. Still, it could be interesting."
   ]
  },
  {
   "cell_type": "markdown",
   "metadata": {},
   "source": [
    "<h3>T-test: 2 types of grapes</h3>\n",
    "\n",
    "I don't quite find the small differences between means of rating per category we examined earlier quite interesting enough to zoom into any specific combination through a t-test. Therefore, we'll examine the difference between mean rating for 2 types of popular white wine grape: \"Sauvignon Blanc\" and \"Chardonnay\".\n",
    "\n",
    "We'll be examining the hypothesis <b>there's a statistically significant difference between the mean ratings of Sauvignon Blanc and Chardonnay</b>. We can test this using an independent T-Test."
   ]
  },
  {
   "cell_type": "code",
   "execution_count": 234,
   "metadata": {
    "pycharm": {
     "name": "#%%\n"
    }
   },
   "outputs": [
    {
     "data": {
      "text/plain": [
       "Ttest_indResult(statistic=-27.58980780866051, pvalue=4.5441493446522265e-166)"
      ]
     },
     "execution_count": 234,
     "metadata": {},
     "output_type": "execute_result"
    }
   ],
   "source": [
    "tcats = [\"Sauvignon Blanc\", \"Chardonnay\"]\n",
    "tdata = [df.loc[df[\"varietal\"] == cat, \"rating\"] for cat in tcats]\n",
    "stats.ttest_ind(tdata[0], tdata[1])"
   ]
  },
  {
   "cell_type": "markdown",
   "metadata": {},
   "source": [
    "t = -28, P < .001, which is lower then our specified threshold of .05. This allows us to reject the null hypothesis \"there's no statistically significant difference between the mean ratings of Sauvignon Blanc and Chardonnay\" and accept the alternative hypothesis we specified earlier."
   ]
  },
  {
   "cell_type": "code",
   "execution_count": 235,
   "metadata": {
    "pycharm": {
     "name": "#%%\n"
    }
   },
   "outputs": [
    {
     "name": "stdout",
     "output_type": "stream",
     "text": [
      "Sauvignon Blanc has a mean of 87.48776561493882.\n",
      "Chardonnay has a mean of 88.43279323346582.\n"
     ]
    }
   ],
   "source": [
    "for name, data in zip(tcats, tdata):\n",
    "    print(f\"{name} has a mean of {np.average(data)}.\")"
   ]
  },
  {
   "cell_type": "markdown",
   "metadata": {},
   "source": [
    "Again, although it's statistically significant, the difference in means in not terribly big.\n",
    "\n",
    "<h3>Pearson's R: Correlation with rating.</h3>\n",
    "\n",
    "Next, and interesting this to examine would be using other numeric columns to predict rating. A good first step would be using Pearson's R to examine any potential linear correlations between rating and any other variables. The hypothesis we formulate for this is <b>There's a linear correlation (at least r > 0.4) between rating and another numeric variable</b>."
   ]
  },
  {
   "cell_type": "code",
   "execution_count": 236,
   "metadata": {
    "pycharm": {
     "name": "#%%\n"
    }
   },
   "outputs": [
    {
     "data": {
      "text/plain": [
       "alcohol    0.154296\n",
       "price      0.554115\n",
       "rating     1.000000\n",
       "Name: rating, dtype: float64"
      ]
     },
     "execution_count": 236,
     "metadata": {},
     "output_type": "execute_result"
    }
   ],
   "source": [
    "df[numeric_columns].corr()[\"rating\"]"
   ]
  },
  {
   "cell_type": "markdown",
   "metadata": {},
   "source": [
    "We can see that price has a medium-strength positive correlation with rating (r = 0.55). Alcohol doesn't really correlate with rating (r = 0.15).\n",
    "\n",
    "<h3>Linear Regression and R-Squared: Predicting Rating</h3>\n",
    "\n",
    "Knowing price and rating correlate at least modestly, we can use this information to attempt to predict a wine's rating using price. A good data-scientist might split the data into a test and a training set, before constructing this model, but considering we're working with more then 300.000 data-points and 2 degrees of freedom for linear regression, I personally don't consider the risk for over-fitting to be that big.\n",
    "\n",
    "We'll drop any missing data we removed in the Data-Engineering chapter and use this to construct a Linear regression model. Then we'll score it using the r-squared metric."
   ]
  },
  {
   "cell_type": "code",
   "execution_count": 237,
   "metadata": {
    "pycharm": {
     "name": "#%%\n"
    }
   },
   "outputs": [],
   "source": [
    "df_numeric = df[numeric_columns].dropna()"
   ]
  },
  {
   "cell_type": "code",
   "execution_count": 238,
   "metadata": {
    "pycharm": {
     "name": "#%%\n"
    }
   },
   "outputs": [],
   "source": [
    "price_transformed = df_numeric[\"price\"].to_numpy().reshape((-1, 1))"
   ]
  },
  {
   "cell_type": "code",
   "execution_count": 239,
   "metadata": {
    "pycharm": {
     "name": "#%%\n"
    }
   },
   "outputs": [
    {
     "data": {
      "text/plain": [
       "0.3096350837027201"
      ]
     },
     "execution_count": 239,
     "metadata": {},
     "output_type": "execute_result"
    }
   ],
   "source": [
    "model_2d = linear_model.LinearRegression()\n",
    "model_2d.fit(price_transformed, df_numeric[\"rating\"])\n",
    "model_2d.score(price_transformed, df_numeric[\"rating\"])"
   ]
  },
  {
   "cell_type": "markdown",
   "metadata": {},
   "source": [
    "Our model has an r-squared score of 0.31, which means our model explains approximately 31% of the variation in rating. Which could be a useful model, and is quite interesting! We can look at this relationship visually through a scatterplot."
   ]
  },
  {
   "cell_type": "code",
   "execution_count": 240,
   "metadata": {
    "pycharm": {
     "name": "#%%\n"
    }
   },
   "outputs": [
    {
     "data": {
      "text/plain": [
       "Text(0.5, 1.0, 'Price/Rating scatter plot')"
      ]
     },
     "execution_count": 240,
     "metadata": {},
     "output_type": "execute_result"
    },
    {
     "data": {
      "image/png": "[encoded data removed]",
      "text/plain": [
       "<Figure size 432x288 with 1 Axes>"
      ]
     },
     "metadata": {
      "needs_background": "light"
     },
     "output_type": "display_data"
    }
   ],
   "source": [
    "plt.scatter(df_numeric[\"price\"], df_numeric[\"rating\"], s=0.1, alpha=.99)\n",
    "plt.xlabel(\"Price in $\")\n",
    "plt.ylabel(\"Rating in points\")\n",
    "plt.title(\"Price/Rating scatter plot\")"
   ]
  },
  {
   "cell_type": "markdown",
   "metadata": {},
   "source": [
    "<h2>References</h2>\n",
    "\n",
    "Belastingdienst. (2020, 6 juni). Alcoholpercentage, volume en verrijking. belastingdienst.nl. Retrieved January 24, 2022, van https://www.belastingdienst.nl/bibliotheek/handboeken/html/boeken/HA/wijn-alcoholpercentage_volume_en_verrijking.html\n",
    "\n",
    "McGuire, S. A. (2022, January 24). Samueladamsmcguire/wine_data_clean: Transformation of scraped HTML to organized pandas dataframe. GitHub. Retrieved January 24, 2022, from https://github.com/SamuelAdamsMcGuire/wine_data_clean\n",
    "\n",
    "Ghasemi, A., &#38; Zahediasl, S. (2012). Normality Tests for Statistical Analysis: A Guide for Non-Statisticians. <i>International Journal of Endocrinology and Metabolism</i>, <i>10</i>(2), 486–489. https://doi.org/10.5812/ijem.3505"
   ]
  },
  {
   "cell_type": "markdown",
   "metadata": {},
   "source": []
  }
 ],
 "metadata": {
  "kernelspec": {
   "display_name": "Python 3",
   "language": "python",
   "name": "python3"
  },
  "language_info": {
   "codemirror_mode": {
    "name": "ipython",
    "version": 3
   },
   "file_extension": ".py",
   "mimetype": "text/x-python",
   "name": "python",
   "nbconvert_exporter": "python",
   "pygments_lexer": "ipython3",
   "version": "3.8.8"
  }
 },
 "nbformat": 4,
 "nbformat_minor": 1
}